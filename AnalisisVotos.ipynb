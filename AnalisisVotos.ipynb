{
 "cells": [
  {
   "cell_type": "code",
   "execution_count": 1,
   "metadata": {},
   "outputs": [],
   "source": [
    "import pandas as pd"
   ]
  },
  {
   "cell_type": "code",
   "execution_count": 2,
   "metadata": {},
   "outputs": [],
   "source": [
    "#pip install xlrd "
   ]
  },
  {
   "cell_type": "code",
   "execution_count": 3,
   "metadata": {},
   "outputs": [],
   "source": [
    "fileName = pd.read_excel('DataPreLimpia/PreLimpia2010.xlsx')"
   ]
  },
  {
   "cell_type": "code",
   "execution_count": 4,
   "metadata": {},
   "outputs": [
    {
     "name": "stdout",
     "output_type": "stream",
     "text": [
      "Index(['PROVINCIA Y CANTÓN', 'UNIDAD SOCIAL CRISTIANA', 'INTEGRACIÓN NACIONAL',\n",
      "       'ALIANZA\\nPATRIÓTICA', 'RENOVACIÓN COSTARRICENSE', 'FRENTE AMPLIO',\n",
      "       'LIBERACIÓN NACIONAL', 'MOVIMIENTO LIBERTARIO', 'ACCIÓN\\nCIUDADANA',\n",
      "       'ACCESIBILIDAD SIN EXCLUSIÓN', 'NULOS', 'BLANCOS'],\n",
      "      dtype='object')\n"
     ]
    }
   ],
   "source": [
    "print(fileName.columns)"
   ]
  },
  {
   "cell_type": "code",
   "execution_count": 5,
   "metadata": {},
   "outputs": [
    {
     "name": "stdout",
     "output_type": "stream",
     "text": [
      "     PROVINCIA Y CANTÓN  UNIDAD SOCIAL CRISTIANA  INTEGRACIÓN NACIONAL  \\\n",
      "0              SAN JOSÉ                   6436.0                   179   \n",
      "1                ESCAZÚ                    688.0                    21   \n",
      "2          DESAMPARADOS                   3711.0                   202   \n",
      "3              PURISCAL                    640.0                    11   \n",
      "4               TARRAZÚ                    351.0                    17   \n",
      "5                ASERRÍ                    945.0                    78   \n",
      "6                  MORA                    488.0                     7   \n",
      "7            GOICOECHEA                   1945.0                   142   \n",
      "8             SANTA ANA                    761.0                    14   \n",
      "9            ALAJUELITA                   1294.0                    25   \n",
      "10  VÁZQUEZ DE CORONADO                   1088.0                    45   \n",
      "11               ACOSTA                    360.0                    13   \n",
      "12                TIBÁS                   1379.0                    38   \n",
      "13              MORAVIA                    836.0                    35   \n",
      "14        MONTES DE OCA                    773.0                    48   \n",
      "15           TURRUBARES                    248.0                     3   \n",
      "16                 DOTA                     99.0                     4   \n",
      "17           CURRIDABAT                    865.0                    36   \n",
      "18        PÉREZ ZELEDÓN                   1492.0                    48   \n",
      "19          LEÓN CORTÉS                    210.0                     4   \n",
      "\n",
      "    ALIANZA\\nPATRIÓTICA  RENOVACIÓN COSTARRICENSE  FRENTE AMPLIO  \\\n",
      "0                 164.0                       941          618.0   \n",
      "1                  31.0                       115           92.0   \n",
      "2                 123.0                       543          337.0   \n",
      "3                  36.0                        64           40.0   \n",
      "4                  14.0                        30           17.0   \n",
      "5                  24.0                       122          113.0   \n",
      "6                  19.0                        78           37.0   \n",
      "7                  58.0                       401          306.0   \n",
      "8                  22.0                       131           59.0   \n",
      "9                  36.0                       214          107.0   \n",
      "10                 51.0                       178          143.0   \n",
      "11                 36.0                        54           16.0   \n",
      "12                 39.0                       218          130.0   \n",
      "13                 47.0                       153          102.0   \n",
      "14                 23.0                       106          154.0   \n",
      "15                  5.0                         8            6.0   \n",
      "16                 10.0                        14            5.0   \n",
      "17                 21.0                       174           91.0   \n",
      "18                 91.0                       276          147.0   \n",
      "19                 20.0                        32           16.0   \n",
      "\n",
      "    LIBERACIÓN NACIONAL  MOVIMIENTO LIBERTARIO  ACCIÓN\\nCIUDADANA  \\\n",
      "0               70913.0                  27690            40882.0   \n",
      "1               14627.0                   5979             6427.0   \n",
      "2               45760.0                  18539            26706.0   \n",
      "3                9127.0                   3067             4086.0   \n",
      "4                3263.0                   1266             1737.0   \n",
      "5               11430.0                   4977             6560.0   \n",
      "6                5815.0                   2551             2810.0   \n",
      "7               25171.0                  10512            19077.0   \n",
      "8                9605.0                   4214             4494.0   \n",
      "9               12914.0                   6801             6201.0   \n",
      "10              14375.0                   5578            10452.0   \n",
      "11               4569.0                   1849             2707.0   \n",
      "12              17778.0                   6956            11740.0   \n",
      "13              13403.0                   4259             9500.0   \n",
      "14              13560.0                   3641            11467.0   \n",
      "15               1642.0                    549              438.0   \n",
      "16               1361.0                    355             1281.0   \n",
      "17              15373.0                   5430             8805.0   \n",
      "18              29435.0                   6983            23886.0   \n",
      "19               2855.0                    920             1126.0   \n",
      "\n",
      "    ACCESIBILIDAD SIN EXCLUSIÓN  NULOS  BLANCOS  \n",
      "0                          3194   2023    293.0  \n",
      "1                           591    345     51.0  \n",
      "2                          2344   1532    198.0  \n",
      "3                           248    213     94.0  \n",
      "4                            87    122     50.0  \n",
      "5                           603    425    108.0  \n",
      "6                           248    234     64.0  \n",
      "7                          1279    768    105.0  \n",
      "8                           365    232     71.0  \n",
      "9                          1000    484     77.0  \n",
      "10                          732    382     60.0  \n",
      "11                          182    174     68.0  \n",
      "12                          749    440     78.0  \n",
      "13                          486    302     51.0  \n",
      "14                          459    312     49.0  \n",
      "15                           22     50      9.0  \n",
      "16                           34     33     19.0  \n",
      "17                          644    448     71.0  \n",
      "18                         1091   1075    279.0  \n",
      "19                           96     80     50.0  \n"
     ]
    }
   ],
   "source": [
    "print(fileName.head(20)) #muestra primeros 20 filas registro"
   ]
  },
  {
   "cell_type": "code",
   "execution_count": 6,
   "metadata": {},
   "outputs": [
    {
     "name": "stdout",
     "output_type": "stream",
     "text": [
      "       UNIDAD SOCIAL CRISTIANA  INTEGRACIÓN NACIONAL  ALIANZA\\nPATRIÓTICA  \\\n",
      "count                81.000000             81.000000            81.000000   \n",
      "mean                914.987654             25.296296            38.987654   \n",
      "std                 972.104617             35.361860            32.408523   \n",
      "min                  99.000000              2.000000             5.000000   \n",
      "25%                 360.000000              6.000000            17.000000   \n",
      "50%                 575.000000             14.000000            29.000000   \n",
      "75%                1062.000000             25.000000            47.000000   \n",
      "max                6436.000000            202.000000           164.000000   \n",
      "\n",
      "       RENOVACIÓN COSTARRICENSE  FRENTE AMPLIO  LIBERACIÓN NACIONAL  \\\n",
      "count                 81.000000      81.000000            81.000000   \n",
      "mean                 172.160494      83.728395         11068.098765   \n",
      "std                  183.473258     102.105339         11825.373084   \n",
      "min                    8.000000       3.000000          1307.000000   \n",
      "25%                   68.000000      18.000000          4264.000000   \n",
      "50%                  109.000000      51.000000          6626.000000   \n",
      "75%                  218.000000     104.000000         13403.000000   \n",
      "max                  941.000000     618.000000         70913.000000   \n",
      "\n",
      "       MOVIMIENTO LIBERTARIO  ACCIÓN\\nCIUDADANA  ACCESIBILIDAD SIN EXCLUSIÓN  \\\n",
      "count              81.000000          81.000000                    81.000000   \n",
      "mean             4935.654321        5912.061728                   445.728395   \n",
      "std              5157.118130        7109.843510                   570.741119   \n",
      "min               355.000000         339.000000                    22.000000   \n",
      "25%              1873.000000        1579.000000                   131.000000   \n",
      "50%              3641.000000        3068.000000                   248.000000   \n",
      "75%              5578.000000        6808.000000                   591.000000   \n",
      "max             27992.000000       40882.000000                  3194.000000   \n",
      "\n",
      "             NULOS    BLANCOS  \n",
      "count    81.000000   81.00000  \n",
      "mean    401.913580   85.91358  \n",
      "std     382.427941   65.07730  \n",
      "min      33.000000    9.00000  \n",
      "25%     146.000000   39.00000  \n",
      "50%     287.000000   68.00000  \n",
      "75%     485.000000  107.00000  \n",
      "max    2023.000000  293.00000  \n"
     ]
    }
   ],
   "source": [
    "print(fileName.describe()) #estadistica descriptiva"
   ]
  },
  {
   "cell_type": "code",
   "execution_count": 7,
   "metadata": {},
   "outputs": [],
   "source": [
    "#pip install xlwings "
   ]
  },
  {
   "cell_type": "code",
   "execution_count": 8,
   "metadata": {},
   "outputs": [],
   "source": [
    "#pip install openpyxl"
   ]
  },
  {
   "cell_type": "code",
   "execution_count": 9,
   "metadata": {},
   "outputs": [],
   "source": [
    "import os\n",
    "from pathlib import Path\n",
    "import glob\n",
    "import numpy as np\n",
    "from openpyxl import load_workbook\n",
    "import xlwings as xw "
   ]
  },
  {
   "cell_type": "code",
   "execution_count": 10,
   "metadata": {},
   "outputs": [
    {
     "name": "stdout",
     "output_type": "stream",
     "text": [
      "Requirement already satisfied: pandas-profiling in c:\\users\\karina\\appdata\\roaming\\python\\python37\\site-packages (2.8.0)\n",
      "Requirement already satisfied: tqdm>=4.43.0 in c:\\users\\karina\\appdata\\local\\programs\\python\\python37-32\\lib\\site-packages (from pandas-profiling) (4.48.0)\n",
      "Requirement already satisfied: jinja2>=2.11.1 in c:\\users\\karina\\appdata\\local\\programs\\python\\python37-32\\lib\\site-packages (from pandas-profiling) (2.11.2)\n",
      "Requirement already satisfied: scipy>=1.4.1 in c:\\users\\karina\\appdata\\local\\programs\\python\\python37-32\\lib\\site-packages (from pandas-profiling) (1.5.2)\n",
      "Requirement already satisfied: htmlmin>=0.1.12 in c:\\users\\karina\\appdata\\roaming\\python\\python37\\site-packages (from pandas-profiling) (0.1.12)\n",
      "Requirement already satisfied: phik>=0.9.10 in c:\\users\\karina\\appdata\\roaming\\python\\python37\\site-packages (from pandas-profiling) (0.10.0)\n",
      "Requirement already satisfied: confuse>=1.0.0 in c:\\users\\karina\\appdata\\roaming\\python\\python37\\site-packages (from pandas-profiling) (1.3.0)\n",
      "Requirement already satisfied: joblib in c:\\users\\karina\\appdata\\local\\programs\\python\\python37-32\\lib\\site-packages (from pandas-profiling) (0.16.0)\n",
      "Requirement already satisfied: matplotlib>=3.2.0 in c:\\users\\karina\\appdata\\local\\programs\\python\\python37-32\\lib\\site-packages (from pandas-profiling) (3.3.0)\n",
      "Requirement already satisfied: visions[type_image_path]==0.4.4 in c:\\users\\karina\\appdata\\roaming\\python\\python37\\site-packages (from pandas-profiling) (0.4.4)\n",
      "Requirement already satisfied: ipywidgets>=7.5.1 in c:\\users\\karina\\appdata\\roaming\\python\\python37\\site-packages (from pandas-profiling) (7.5.1)\n",
      "Requirement already satisfied: astropy>=4.0 in c:\\users\\karina\\appdata\\roaming\\python\\python37\\site-packages (from pandas-profiling) (4.0.1.post1)\n",
      "Requirement already satisfied: pandas!=1.0.0,!=1.0.1,!=1.0.2,>=0.25.3 in c:\\users\\karina\\appdata\\local\\programs\\python\\python37-32\\lib\\site-packages (from pandas-profiling) (1.0.5)\n",
      "Requirement already satisfied: tangled-up-in-unicode>=0.0.6 in c:\\users\\karina\\appdata\\local\\programs\\python\\python37-32\\lib\\site-packages (from pandas-profiling) (0.0.6)\n",
      "Requirement already satisfied: numpy>=1.16.0 in c:\\users\\karina\\appdata\\local\\programs\\python\\python37-32\\lib\\site-packages (from pandas-profiling) (1.17.0)\n",
      "Requirement already satisfied: missingno>=0.4.2 in c:\\users\\karina\\appdata\\roaming\\python\\python37\\site-packages (from pandas-profiling) (0.4.2)\n",
      "Requirement already satisfied: requests>=2.23.0 in c:\\users\\karina\\appdata\\local\\programs\\python\\python37-32\\lib\\site-packages (from pandas-profiling) (2.24.0)\n",
      "Requirement already satisfied: MarkupSafe>=0.23 in c:\\users\\karina\\appdata\\local\\programs\\python\\python37-32\\lib\\site-packages (from jinja2>=2.11.1->pandas-profiling) (1.1.1)\n",
      "Requirement already satisfied: numba>=0.38.1 in c:\\users\\karina\\appdata\\local\\programs\\python\\python37-32\\lib\\site-packages (from phik>=0.9.10->pandas-profiling) (0.50.1)\n",
      "Requirement already satisfied: pyyaml in c:\\users\\karina\\appdata\\roaming\\python\\python37\\site-packages (from confuse>=1.0.0->pandas-profiling) (5.3.1)\n",
      "Requirement already satisfied: cycler>=0.10 in c:\\users\\karina\\appdata\\local\\programs\\python\\python37-32\\lib\\site-packages (from matplotlib>=3.2.0->pandas-profiling) (0.10.0)\n",
      "Requirement already satisfied: pillow>=6.2.0 in c:\\users\\karina\\appdata\\local\\programs\\python\\python37-32\\lib\\site-packages (from matplotlib>=3.2.0->pandas-profiling) (7.2.0)\n",
      "Requirement already satisfied: pyparsing!=2.0.4,!=2.1.2,!=2.1.6,>=2.0.3 in c:\\users\\karina\\appdata\\local\\programs\\python\\python37-32\\lib\\site-packages (from matplotlib>=3.2.0->pandas-profiling) (2.4.7)\n",
      "Requirement already satisfied: kiwisolver>=1.0.1 in c:\\users\\karina\\appdata\\local\\programs\\python\\python37-32\\lib\\site-packages (from matplotlib>=3.2.0->pandas-profiling) (1.2.0)\n",
      "Requirement already satisfied: python-dateutil>=2.1 in c:\\users\\karina\\appdata\\local\\programs\\python\\python37-32\\lib\\site-packages (from matplotlib>=3.2.0->pandas-profiling) (2.8.0)\n",
      "Requirement already satisfied: attrs>=19.3.0 in c:\\users\\karina\\appdata\\local\\programs\\python\\python37-32\\lib\\site-packages (from visions[type_image_path]==0.4.4->pandas-profiling) (19.3.0)\n",
      "Requirement already satisfied: networkx>=2.4 in c:\\users\\karina\\appdata\\roaming\\python\\python37\\site-packages (from visions[type_image_path]==0.4.4->pandas-profiling) (2.4)\n",
      "Requirement already satisfied: imagehash; extra == \"type_image_path\" in c:\\users\\karina\\appdata\\roaming\\python\\python37\\site-packages (from visions[type_image_path]==0.4.4->pandas-profiling) (4.1.0)\n",
      "Requirement already satisfied: nbformat>=4.2.0 in c:\\users\\karina\\appdata\\local\\programs\\python\\python37-32\\lib\\site-packages (from ipywidgets>=7.5.1->pandas-profiling) (5.0.7)\n",
      "Requirement already satisfied: widgetsnbextension~=3.5.0 in c:\\users\\karina\\appdata\\roaming\\python\\python37\\site-packages (from ipywidgets>=7.5.1->pandas-profiling) (3.5.1)\n",
      "Requirement already satisfied: ipython>=4.0.0; python_version >= \"3.3\" in c:\\users\\karina\\appdata\\local\\programs\\python\\python37-32\\lib\\site-packages (from ipywidgets>=7.5.1->pandas-profiling) (7.15.0)\n",
      "Requirement already satisfied: ipykernel>=4.5.1 in c:\\users\\karina\\appdata\\local\\programs\\python\\python37-32\\lib\\site-packages (from ipywidgets>=7.5.1->pandas-profiling) (5.3.0)\n",
      "Requirement already satisfied: traitlets>=4.3.1 in c:\\users\\karina\\appdata\\local\\programs\\python\\python37-32\\lib\\site-packages (from ipywidgets>=7.5.1->pandas-profiling) (4.3.3)\n",
      "Requirement already satisfied: pytz>=2017.2 in c:\\users\\karina\\appdata\\local\\programs\\python\\python37-32\\lib\\site-packages (from pandas!=1.0.0,!=1.0.1,!=1.0.2,>=0.25.3->pandas-profiling) (2019.2)\n",
      "Requirement already satisfied: seaborn in c:\\users\\karina\\appdata\\roaming\\python\\python37\\site-packages (from missingno>=0.4.2->pandas-profiling) (0.10.1)\n",
      "Requirement already satisfied: chardet<4,>=3.0.2 in c:\\users\\karina\\appdata\\local\\programs\\python\\python37-32\\lib\\site-packages (from requests>=2.23.0->pandas-profiling) (3.0.4)\n",
      "Requirement already satisfied: urllib3!=1.25.0,!=1.25.1,<1.26,>=1.21.1 in c:\\users\\karina\\appdata\\local\\programs\\python\\python37-32\\lib\\site-packages (from requests>=2.23.0->pandas-profiling) (1.25.9)\n",
      "Requirement already satisfied: certifi>=2017.4.17 in c:\\users\\karina\\appdata\\local\\programs\\python\\python37-32\\lib\\site-packages (from requests>=2.23.0->pandas-profiling) (2019.6.16)\n",
      "Requirement already satisfied: idna<3,>=2.5 in c:\\users\\karina\\appdata\\local\\programs\\python\\python37-32\\lib\\site-packages (from requests>=2.23.0->pandas-profiling) (2.8)\n",
      "Requirement already satisfied: setuptools in c:\\users\\karina\\appdata\\local\\programs\\python\\python37-32\\lib\\site-packages (from numba>=0.38.1->phik>=0.9.10->pandas-profiling) (40.6.2)\n",
      "Requirement already satisfied: llvmlite<0.34,>=0.33.0.dev0 in c:\\users\\karina\\appdata\\local\\programs\\python\\python37-32\\lib\\site-packages (from numba>=0.38.1->phik>=0.9.10->pandas-profiling) (0.33.0)\n",
      "Requirement already satisfied: six in c:\\users\\karina\\appdata\\local\\programs\\python\\python37-32\\lib\\site-packages (from cycler>=0.10->matplotlib>=3.2.0->pandas-profiling) (1.12.0)\n",
      "Requirement already satisfied: decorator>=4.3.0 in c:\\users\\karina\\appdata\\local\\programs\\python\\python37-32\\lib\\site-packages (from networkx>=2.4->visions[type_image_path]==0.4.4->pandas-profiling) (4.4.2)\n",
      "Requirement already satisfied: PyWavelets in c:\\users\\karina\\appdata\\roaming\\python\\python37\\site-packages (from imagehash; extra == \"type_image_path\"->visions[type_image_path]==0.4.4->pandas-profiling) (1.1.1)\n",
      "Requirement already satisfied: ipython-genutils in c:\\users\\karina\\appdata\\local\\programs\\python\\python37-32\\lib\\site-packages (from nbformat>=4.2.0->ipywidgets>=7.5.1->pandas-profiling) (0.2.0)\n",
      "Requirement already satisfied: jsonschema!=2.5.0,>=2.4 in c:\\users\\karina\\appdata\\local\\programs\\python\\python37-32\\lib\\site-packages (from nbformat>=4.2.0->ipywidgets>=7.5.1->pandas-profiling) (3.2.0)\n",
      "Requirement already satisfied: jupyter-core in c:\\users\\karina\\appdata\\local\\programs\\python\\python37-32\\lib\\site-packages (from nbformat>=4.2.0->ipywidgets>=7.5.1->pandas-profiling) (4.6.3)\n",
      "Requirement already satisfied: notebook>=4.4.1 in c:\\users\\karina\\appdata\\local\\programs\\python\\python37-32\\lib\\site-packages (from widgetsnbextension~=3.5.0->ipywidgets>=7.5.1->pandas-profiling) (6.0.3)\n",
      "Requirement already satisfied: pygments in c:\\users\\karina\\appdata\\local\\programs\\python\\python37-32\\lib\\site-packages (from ipython>=4.0.0; python_version >= \"3.3\"->ipywidgets>=7.5.1->pandas-profiling) (2.6.1)\n",
      "Requirement already satisfied: jedi>=0.10 in c:\\users\\karina\\appdata\\local\\programs\\python\\python37-32\\lib\\site-packages (from ipython>=4.0.0; python_version >= \"3.3\"->ipywidgets>=7.5.1->pandas-profiling) (0.17.1)\n",
      "Requirement already satisfied: colorama; sys_platform == \"win32\" in c:\\users\\karina\\appdata\\local\\programs\\python\\python37-32\\lib\\site-packages (from ipython>=4.0.0; python_version >= \"3.3\"->ipywidgets>=7.5.1->pandas-profiling) (0.4.3)\n",
      "Requirement already satisfied: pickleshare in c:\\users\\karina\\appdata\\local\\programs\\python\\python37-32\\lib\\site-packages (from ipython>=4.0.0; python_version >= \"3.3\"->ipywidgets>=7.5.1->pandas-profiling) (0.7.5)\n",
      "Requirement already satisfied: backcall in c:\\users\\karina\\appdata\\local\\programs\\python\\python37-32\\lib\\site-packages (from ipython>=4.0.0; python_version >= \"3.3\"->ipywidgets>=7.5.1->pandas-profiling) (0.2.0)\n",
      "Requirement already satisfied: prompt-toolkit!=3.0.0,!=3.0.1,<3.1.0,>=2.0.0 in c:\\users\\karina\\appdata\\local\\programs\\python\\python37-32\\lib\\site-packages (from ipython>=4.0.0; python_version >= \"3.3\"->ipywidgets>=7.5.1->pandas-profiling) (3.0.5)\n",
      "Requirement already satisfied: tornado>=4.2 in c:\\users\\karina\\appdata\\local\\programs\\python\\python37-32\\lib\\site-packages (from ipykernel>=4.5.1->ipywidgets>=7.5.1->pandas-profiling) (6.0.4)\n",
      "Requirement already satisfied: jupyter-client in c:\\users\\karina\\appdata\\local\\programs\\python\\python37-32\\lib\\site-packages (from ipykernel>=4.5.1->ipywidgets>=7.5.1->pandas-profiling) (6.1.3)\n",
      "Requirement already satisfied: importlib-metadata; python_version < \"3.8\" in c:\\users\\karina\\appdata\\local\\programs\\python\\python37-32\\lib\\site-packages (from jsonschema!=2.5.0,>=2.4->nbformat>=4.2.0->ipywidgets>=7.5.1->pandas-profiling) (1.6.1)\n",
      "Requirement already satisfied: pyrsistent>=0.14.0 in c:\\users\\karina\\appdata\\local\\programs\\python\\python37-32\\lib\\site-packages (from jsonschema!=2.5.0,>=2.4->nbformat>=4.2.0->ipywidgets>=7.5.1->pandas-profiling) (0.16.0)\n",
      "Requirement already satisfied: pywin32>=1.0; sys_platform == \"win32\" in c:\\users\\karina\\appdata\\local\\programs\\python\\python37-32\\lib\\site-packages (from jupyter-core->nbformat>=4.2.0->ipywidgets>=7.5.1->pandas-profiling) (228)\n",
      "Requirement already satisfied: pyzmq>=17 in c:\\users\\karina\\appdata\\local\\programs\\python\\python37-32\\lib\\site-packages (from notebook>=4.4.1->widgetsnbextension~=3.5.0->ipywidgets>=7.5.1->pandas-profiling) (19.0.1)\n",
      "Requirement already satisfied: nbconvert in c:\\users\\karina\\appdata\\local\\programs\\python\\python37-32\\lib\\site-packages (from notebook>=4.4.1->widgetsnbextension~=3.5.0->ipywidgets>=7.5.1->pandas-profiling) (5.6.1)\n",
      "Requirement already satisfied: terminado>=0.8.1 in c:\\users\\karina\\appdata\\local\\programs\\python\\python37-32\\lib\\site-packages (from notebook>=4.4.1->widgetsnbextension~=3.5.0->ipywidgets>=7.5.1->pandas-profiling) (0.8.3)\n",
      "Requirement already satisfied: prometheus-client in c:\\users\\karina\\appdata\\local\\programs\\python\\python37-32\\lib\\site-packages (from notebook>=4.4.1->widgetsnbextension~=3.5.0->ipywidgets>=7.5.1->pandas-profiling) (0.8.0)\n",
      "Requirement already satisfied: Send2Trash in c:\\users\\karina\\appdata\\local\\programs\\python\\python37-32\\lib\\site-packages (from notebook>=4.4.1->widgetsnbextension~=3.5.0->ipywidgets>=7.5.1->pandas-profiling) (1.5.0)\n",
      "Requirement already satisfied: parso<0.8.0,>=0.7.0 in c:\\users\\karina\\appdata\\local\\programs\\python\\python37-32\\lib\\site-packages (from jedi>=0.10->ipython>=4.0.0; python_version >= \"3.3\"->ipywidgets>=7.5.1->pandas-profiling) (0.7.0)\n",
      "Requirement already satisfied: wcwidth in c:\\users\\karina\\appdata\\local\\programs\\python\\python37-32\\lib\\site-packages (from prompt-toolkit!=3.0.0,!=3.0.1,<3.1.0,>=2.0.0->ipython>=4.0.0; python_version >= \"3.3\"->ipywidgets>=7.5.1->pandas-profiling) (0.2.4)\n",
      "Requirement already satisfied: zipp>=0.5 in c:\\users\\karina\\appdata\\local\\programs\\python\\python37-32\\lib\\site-packages (from importlib-metadata; python_version < \"3.8\"->jsonschema!=2.5.0,>=2.4->nbformat>=4.2.0->ipywidgets>=7.5.1->pandas-profiling) (3.1.0)\n",
      "Requirement already satisfied: entrypoints>=0.2.2 in c:\\users\\karina\\appdata\\local\\programs\\python\\python37-32\\lib\\site-packages (from nbconvert->notebook>=4.4.1->widgetsnbextension~=3.5.0->ipywidgets>=7.5.1->pandas-profiling) (0.3)\n",
      "Requirement already satisfied: bleach in c:\\users\\karina\\appdata\\local\\programs\\python\\python37-32\\lib\\site-packages (from nbconvert->notebook>=4.4.1->widgetsnbextension~=3.5.0->ipywidgets>=7.5.1->pandas-profiling) (3.1.5)\n",
      "Requirement already satisfied: mistune<2,>=0.8.1 in c:\\users\\karina\\appdata\\local\\programs\\python\\python37-32\\lib\\site-packages (from nbconvert->notebook>=4.4.1->widgetsnbextension~=3.5.0->ipywidgets>=7.5.1->pandas-profiling) (0.8.4)\n",
      "Requirement already satisfied: testpath in c:\\users\\karina\\appdata\\local\\programs\\python\\python37-32\\lib\\site-packages (from nbconvert->notebook>=4.4.1->widgetsnbextension~=3.5.0->ipywidgets>=7.5.1->pandas-profiling) (0.4.4)\n",
      "Requirement already satisfied: defusedxml in c:\\users\\karina\\appdata\\local\\programs\\python\\python37-32\\lib\\site-packages (from nbconvert->notebook>=4.4.1->widgetsnbextension~=3.5.0->ipywidgets>=7.5.1->pandas-profiling) (0.6.0)\n",
      "Requirement already satisfied: pandocfilters>=1.4.1 in c:\\users\\karina\\appdata\\local\\programs\\python\\python37-32\\lib\\site-packages (from nbconvert->notebook>=4.4.1->widgetsnbextension~=3.5.0->ipywidgets>=7.5.1->pandas-profiling) (1.4.2)\n",
      "Requirement already satisfied: pywinpty>=0.5; os_name == \"nt\" in c:\\users\\karina\\appdata\\local\\programs\\python\\python37-32\\lib\\site-packages (from terminado>=0.8.1->notebook>=4.4.1->widgetsnbextension~=3.5.0->ipywidgets>=7.5.1->pandas-profiling) (0.5.7)\n",
      "Requirement already satisfied: packaging in c:\\users\\karina\\appdata\\local\\programs\\python\\python37-32\\lib\\site-packages (from bleach->nbconvert->notebook>=4.4.1->widgetsnbextension~=3.5.0->ipywidgets>=7.5.1->pandas-profiling) (20.4)\n",
      "Requirement already satisfied: webencodings in c:\\users\\karina\\appdata\\local\\programs\\python\\python37-32\\lib\\site-packages (from bleach->nbconvert->notebook>=4.4.1->widgetsnbextension~=3.5.0->ipywidgets>=7.5.1->pandas-profiling) (0.5.1)\n"
     ]
    }
   ],
   "source": [
    "import sys\n",
    "!{sys.executable} -m pip install pandas-profiling"
   ]
  },
  {
   "cell_type": "code",
   "execution_count": 11,
   "metadata": {},
   "outputs": [],
   "source": [
    "import pandas as pd"
   ]
  },
  {
   "cell_type": "code",
   "execution_count": 12,
   "metadata": {},
   "outputs": [],
   "source": [
    "import pandas_profiling"
   ]
  },
  {
   "cell_type": "code",
   "execution_count": 13,
   "metadata": {},
   "outputs": [
    {
     "data": {
      "text/html": [
       "<div>\n",
       "<style scoped>\n",
       "    .dataframe tbody tr th:only-of-type {\n",
       "        vertical-align: middle;\n",
       "    }\n",
       "\n",
       "    .dataframe tbody tr th {\n",
       "        vertical-align: top;\n",
       "    }\n",
       "\n",
       "    .dataframe thead th {\n",
       "        text-align: right;\n",
       "    }\n",
       "</style>\n",
       "<table border=\"1\" class=\"dataframe\">\n",
       "  <thead>\n",
       "    <tr style=\"text-align: right;\">\n",
       "      <th></th>\n",
       "      <th>PROVINCIA Y CANTÓN</th>\n",
       "      <th>UNIDAD SOCIAL CRISTIANA</th>\n",
       "      <th>INTEGRACIÓN NACIONAL</th>\n",
       "      <th>ALIANZA\\nPATRIÓTICA</th>\n",
       "      <th>RENOVACIÓN COSTARRICENSE</th>\n",
       "      <th>FRENTE AMPLIO</th>\n",
       "      <th>LIBERACIÓN NACIONAL</th>\n",
       "      <th>MOVIMIENTO LIBERTARIO</th>\n",
       "      <th>ACCIÓN\\nCIUDADANA</th>\n",
       "      <th>ACCESIBILIDAD SIN EXCLUSIÓN</th>\n",
       "      <th>NULOS</th>\n",
       "      <th>BLANCOS</th>\n",
       "    </tr>\n",
       "  </thead>\n",
       "  <tbody>\n",
       "    <tr>\n",
       "      <th>0</th>\n",
       "      <td>SAN JOSÉ</td>\n",
       "      <td>6436.0</td>\n",
       "      <td>179</td>\n",
       "      <td>164.0</td>\n",
       "      <td>941</td>\n",
       "      <td>618.0</td>\n",
       "      <td>70913.0</td>\n",
       "      <td>27690</td>\n",
       "      <td>40882.0</td>\n",
       "      <td>3194</td>\n",
       "      <td>2023</td>\n",
       "      <td>293.0</td>\n",
       "    </tr>\n",
       "    <tr>\n",
       "      <th>1</th>\n",
       "      <td>ESCAZÚ</td>\n",
       "      <td>688.0</td>\n",
       "      <td>21</td>\n",
       "      <td>31.0</td>\n",
       "      <td>115</td>\n",
       "      <td>92.0</td>\n",
       "      <td>14627.0</td>\n",
       "      <td>5979</td>\n",
       "      <td>6427.0</td>\n",
       "      <td>591</td>\n",
       "      <td>345</td>\n",
       "      <td>51.0</td>\n",
       "    </tr>\n",
       "    <tr>\n",
       "      <th>2</th>\n",
       "      <td>DESAMPARADOS</td>\n",
       "      <td>3711.0</td>\n",
       "      <td>202</td>\n",
       "      <td>123.0</td>\n",
       "      <td>543</td>\n",
       "      <td>337.0</td>\n",
       "      <td>45760.0</td>\n",
       "      <td>18539</td>\n",
       "      <td>26706.0</td>\n",
       "      <td>2344</td>\n",
       "      <td>1532</td>\n",
       "      <td>198.0</td>\n",
       "    </tr>\n",
       "    <tr>\n",
       "      <th>3</th>\n",
       "      <td>PURISCAL</td>\n",
       "      <td>640.0</td>\n",
       "      <td>11</td>\n",
       "      <td>36.0</td>\n",
       "      <td>64</td>\n",
       "      <td>40.0</td>\n",
       "      <td>9127.0</td>\n",
       "      <td>3067</td>\n",
       "      <td>4086.0</td>\n",
       "      <td>248</td>\n",
       "      <td>213</td>\n",
       "      <td>94.0</td>\n",
       "    </tr>\n",
       "    <tr>\n",
       "      <th>4</th>\n",
       "      <td>TARRAZÚ</td>\n",
       "      <td>351.0</td>\n",
       "      <td>17</td>\n",
       "      <td>14.0</td>\n",
       "      <td>30</td>\n",
       "      <td>17.0</td>\n",
       "      <td>3263.0</td>\n",
       "      <td>1266</td>\n",
       "      <td>1737.0</td>\n",
       "      <td>87</td>\n",
       "      <td>122</td>\n",
       "      <td>50.0</td>\n",
       "    </tr>\n",
       "  </tbody>\n",
       "</table>\n",
       "</div>"
      ],
      "text/plain": [
       "  PROVINCIA Y CANTÓN  UNIDAD SOCIAL CRISTIANA  INTEGRACIÓN NACIONAL  \\\n",
       "0           SAN JOSÉ                   6436.0                   179   \n",
       "1             ESCAZÚ                    688.0                    21   \n",
       "2       DESAMPARADOS                   3711.0                   202   \n",
       "3           PURISCAL                    640.0                    11   \n",
       "4            TARRAZÚ                    351.0                    17   \n",
       "\n",
       "   ALIANZA\\nPATRIÓTICA  RENOVACIÓN COSTARRICENSE  FRENTE AMPLIO  \\\n",
       "0                164.0                       941          618.0   \n",
       "1                 31.0                       115           92.0   \n",
       "2                123.0                       543          337.0   \n",
       "3                 36.0                        64           40.0   \n",
       "4                 14.0                        30           17.0   \n",
       "\n",
       "   LIBERACIÓN NACIONAL  MOVIMIENTO LIBERTARIO  ACCIÓN\\nCIUDADANA  \\\n",
       "0              70913.0                  27690            40882.0   \n",
       "1              14627.0                   5979             6427.0   \n",
       "2              45760.0                  18539            26706.0   \n",
       "3               9127.0                   3067             4086.0   \n",
       "4               3263.0                   1266             1737.0   \n",
       "\n",
       "   ACCESIBILIDAD SIN EXCLUSIÓN  NULOS  BLANCOS  \n",
       "0                         3194   2023    293.0  \n",
       "1                          591    345     51.0  \n",
       "2                         2344   1532    198.0  \n",
       "3                          248    213     94.0  \n",
       "4                           87    122     50.0  "
      ]
     },
     "execution_count": 13,
     "metadata": {},
     "output_type": "execute_result"
    }
   ],
   "source": [
    "fileName.head()"
   ]
  },
  {
   "cell_type": "code",
   "execution_count": 14,
   "metadata": {},
   "outputs": [
    {
     "data": {
      "text/html": [
       "<div>\n",
       "<style scoped>\n",
       "    .dataframe tbody tr th:only-of-type {\n",
       "        vertical-align: middle;\n",
       "    }\n",
       "\n",
       "    .dataframe tbody tr th {\n",
       "        vertical-align: top;\n",
       "    }\n",
       "\n",
       "    .dataframe thead th {\n",
       "        text-align: right;\n",
       "    }\n",
       "</style>\n",
       "<table border=\"1\" class=\"dataframe\">\n",
       "  <thead>\n",
       "    <tr style=\"text-align: right;\">\n",
       "      <th></th>\n",
       "      <th>PROVINCIA Y CANTÓN</th>\n",
       "      <th>UNIDAD SOCIAL CRISTIANA</th>\n",
       "      <th>INTEGRACIÓN NACIONAL</th>\n",
       "      <th>ALIANZA\\nPATRIÓTICA</th>\n",
       "      <th>RENOVACIÓN COSTARRICENSE</th>\n",
       "      <th>FRENTE AMPLIO</th>\n",
       "      <th>LIBERACIÓN NACIONAL</th>\n",
       "      <th>MOVIMIENTO LIBERTARIO</th>\n",
       "      <th>ACCIÓN\\nCIUDADANA</th>\n",
       "      <th>ACCESIBILIDAD SIN EXCLUSIÓN</th>\n",
       "      <th>NULOS</th>\n",
       "      <th>BLANCOS</th>\n",
       "    </tr>\n",
       "  </thead>\n",
       "  <tbody>\n",
       "    <tr>\n",
       "      <th>76</th>\n",
       "      <td>POCOCÍ</td>\n",
       "      <td>1472.0</td>\n",
       "      <td>50</td>\n",
       "      <td>92.0</td>\n",
       "      <td>820</td>\n",
       "      <td>239.0</td>\n",
       "      <td>17254.0</td>\n",
       "      <td>16400</td>\n",
       "      <td>8475.0</td>\n",
       "      <td>828</td>\n",
       "      <td>1291</td>\n",
       "      <td>219.0</td>\n",
       "    </tr>\n",
       "    <tr>\n",
       "      <th>77</th>\n",
       "      <td>SIQUIRRES</td>\n",
       "      <td>1062.0</td>\n",
       "      <td>16</td>\n",
       "      <td>40.0</td>\n",
       "      <td>379</td>\n",
       "      <td>172.0</td>\n",
       "      <td>9717.0</td>\n",
       "      <td>5351</td>\n",
       "      <td>2511.0</td>\n",
       "      <td>322</td>\n",
       "      <td>631</td>\n",
       "      <td>107.0</td>\n",
       "    </tr>\n",
       "    <tr>\n",
       "      <th>78</th>\n",
       "      <td>TALAMANCA</td>\n",
       "      <td>988.0</td>\n",
       "      <td>14</td>\n",
       "      <td>23.0</td>\n",
       "      <td>125</td>\n",
       "      <td>40.0</td>\n",
       "      <td>3473.0</td>\n",
       "      <td>1775</td>\n",
       "      <td>1998.0</td>\n",
       "      <td>56</td>\n",
       "      <td>292</td>\n",
       "      <td>116.0</td>\n",
       "    </tr>\n",
       "    <tr>\n",
       "      <th>79</th>\n",
       "      <td>MATINA</td>\n",
       "      <td>806.0</td>\n",
       "      <td>14</td>\n",
       "      <td>69.0</td>\n",
       "      <td>457</td>\n",
       "      <td>43.0</td>\n",
       "      <td>4851.0</td>\n",
       "      <td>3417</td>\n",
       "      <td>1266.0</td>\n",
       "      <td>105</td>\n",
       "      <td>414</td>\n",
       "      <td>117.0</td>\n",
       "    </tr>\n",
       "    <tr>\n",
       "      <th>80</th>\n",
       "      <td>GUÁCIMO</td>\n",
       "      <td>474.0</td>\n",
       "      <td>16</td>\n",
       "      <td>41.0</td>\n",
       "      <td>222</td>\n",
       "      <td>63.0</td>\n",
       "      <td>5874.0</td>\n",
       "      <td>4882</td>\n",
       "      <td>2082.0</td>\n",
       "      <td>241</td>\n",
       "      <td>485</td>\n",
       "      <td>86.0</td>\n",
       "    </tr>\n",
       "  </tbody>\n",
       "</table>\n",
       "</div>"
      ],
      "text/plain": [
       "   PROVINCIA Y CANTÓN  UNIDAD SOCIAL CRISTIANA  INTEGRACIÓN NACIONAL  \\\n",
       "76             POCOCÍ                   1472.0                    50   \n",
       "77          SIQUIRRES                   1062.0                    16   \n",
       "78          TALAMANCA                    988.0                    14   \n",
       "79             MATINA                    806.0                    14   \n",
       "80            GUÁCIMO                    474.0                    16   \n",
       "\n",
       "    ALIANZA\\nPATRIÓTICA  RENOVACIÓN COSTARRICENSE  FRENTE AMPLIO  \\\n",
       "76                 92.0                       820          239.0   \n",
       "77                 40.0                       379          172.0   \n",
       "78                 23.0                       125           40.0   \n",
       "79                 69.0                       457           43.0   \n",
       "80                 41.0                       222           63.0   \n",
       "\n",
       "    LIBERACIÓN NACIONAL  MOVIMIENTO LIBERTARIO  ACCIÓN\\nCIUDADANA  \\\n",
       "76              17254.0                  16400             8475.0   \n",
       "77               9717.0                   5351             2511.0   \n",
       "78               3473.0                   1775             1998.0   \n",
       "79               4851.0                   3417             1266.0   \n",
       "80               5874.0                   4882             2082.0   \n",
       "\n",
       "    ACCESIBILIDAD SIN EXCLUSIÓN  NULOS  BLANCOS  \n",
       "76                          828   1291    219.0  \n",
       "77                          322    631    107.0  \n",
       "78                           56    292    116.0  \n",
       "79                          105    414    117.0  \n",
       "80                          241    485     86.0  "
      ]
     },
     "execution_count": 14,
     "metadata": {},
     "output_type": "execute_result"
    }
   ],
   "source": [
    "fileName.tail()"
   ]
  },
  {
   "cell_type": "code",
   "execution_count": 15,
   "metadata": {},
   "outputs": [
    {
     "data": {
      "text/plain": [
       "(81, 12)"
      ]
     },
     "execution_count": 15,
     "metadata": {},
     "output_type": "execute_result"
    }
   ],
   "source": [
    "fileName.shape"
   ]
  },
  {
   "cell_type": "code",
   "execution_count": 16,
   "metadata": {},
   "outputs": [
    {
     "data": {
      "text/plain": [
       "array(['PROVINCIA Y CANTÓN', 'UNIDAD SOCIAL CRISTIANA',\n",
       "       'INTEGRACIÓN NACIONAL', 'ALIANZA\\nPATRIÓTICA',\n",
       "       'RENOVACIÓN COSTARRICENSE', 'FRENTE AMPLIO', 'LIBERACIÓN NACIONAL',\n",
       "       'MOVIMIENTO LIBERTARIO', 'ACCIÓN\\nCIUDADANA',\n",
       "       'ACCESIBILIDAD SIN EXCLUSIÓN', 'NULOS', 'BLANCOS'], dtype=object)"
      ]
     },
     "execution_count": 16,
     "metadata": {},
     "output_type": "execute_result"
    }
   ],
   "source": [
    "fileName.columns.values"
   ]
  },
  {
   "cell_type": "code",
   "execution_count": 17,
   "metadata": {},
   "outputs": [
    {
     "name": "stdout",
     "output_type": "stream",
     "text": [
      "<class 'pandas.core.frame.DataFrame'>\n",
      "RangeIndex: 81 entries, 0 to 80\n",
      "Data columns (total 12 columns):\n",
      " #   Column                       Non-Null Count  Dtype  \n",
      "---  ------                       --------------  -----  \n",
      " 0   PROVINCIA Y CANTÓN           81 non-null     object \n",
      " 1   UNIDAD SOCIAL CRISTIANA      81 non-null     float64\n",
      " 2   INTEGRACIÓN NACIONAL         81 non-null     int64  \n",
      " 3   ALIANZA\n",
      "PATRIÓTICA           81 non-null     float64\n",
      " 4   RENOVACIÓN COSTARRICENSE     81 non-null     int64  \n",
      " 5   FRENTE AMPLIO                81 non-null     float64\n",
      " 6   LIBERACIÓN NACIONAL          81 non-null     float64\n",
      " 7   MOVIMIENTO LIBERTARIO        81 non-null     int64  \n",
      " 8   ACCIÓN\n",
      "CIUDADANA             81 non-null     float64\n",
      " 9   ACCESIBILIDAD SIN EXCLUSIÓN  81 non-null     int64  \n",
      " 10  NULOS                        81 non-null     int64  \n",
      " 11  BLANCOS                      81 non-null     float64\n",
      "dtypes: float64(6), int64(5), object(1)\n",
      "memory usage: 7.3+ KB\n"
     ]
    }
   ],
   "source": [
    "fileName.info()"
   ]
  },
  {
   "cell_type": "code",
   "execution_count": 18,
   "metadata": {},
   "outputs": [
    {
     "data": {
      "text/html": [
       "<div>\n",
       "<style scoped>\n",
       "    .dataframe tbody tr th:only-of-type {\n",
       "        vertical-align: middle;\n",
       "    }\n",
       "\n",
       "    .dataframe tbody tr th {\n",
       "        vertical-align: top;\n",
       "    }\n",
       "\n",
       "    .dataframe thead th {\n",
       "        text-align: right;\n",
       "    }\n",
       "</style>\n",
       "<table border=\"1\" class=\"dataframe\">\n",
       "  <thead>\n",
       "    <tr style=\"text-align: right;\">\n",
       "      <th></th>\n",
       "      <th>UNIDAD SOCIAL CRISTIANA</th>\n",
       "      <th>INTEGRACIÓN NACIONAL</th>\n",
       "      <th>ALIANZA\\nPATRIÓTICA</th>\n",
       "      <th>RENOVACIÓN COSTARRICENSE</th>\n",
       "      <th>FRENTE AMPLIO</th>\n",
       "      <th>LIBERACIÓN NACIONAL</th>\n",
       "      <th>MOVIMIENTO LIBERTARIO</th>\n",
       "      <th>ACCIÓN\\nCIUDADANA</th>\n",
       "      <th>ACCESIBILIDAD SIN EXCLUSIÓN</th>\n",
       "      <th>NULOS</th>\n",
       "      <th>BLANCOS</th>\n",
       "    </tr>\n",
       "  </thead>\n",
       "  <tbody>\n",
       "    <tr>\n",
       "      <th>count</th>\n",
       "      <td>81.000000</td>\n",
       "      <td>81.000000</td>\n",
       "      <td>81.000000</td>\n",
       "      <td>81.000000</td>\n",
       "      <td>81.000000</td>\n",
       "      <td>81.000000</td>\n",
       "      <td>81.000000</td>\n",
       "      <td>81.000000</td>\n",
       "      <td>81.000000</td>\n",
       "      <td>81.000000</td>\n",
       "      <td>81.00000</td>\n",
       "    </tr>\n",
       "    <tr>\n",
       "      <th>mean</th>\n",
       "      <td>914.987654</td>\n",
       "      <td>25.296296</td>\n",
       "      <td>38.987654</td>\n",
       "      <td>172.160494</td>\n",
       "      <td>83.728395</td>\n",
       "      <td>11068.098765</td>\n",
       "      <td>4935.654321</td>\n",
       "      <td>5912.061728</td>\n",
       "      <td>445.728395</td>\n",
       "      <td>401.913580</td>\n",
       "      <td>85.91358</td>\n",
       "    </tr>\n",
       "    <tr>\n",
       "      <th>std</th>\n",
       "      <td>972.104617</td>\n",
       "      <td>35.361860</td>\n",
       "      <td>32.408523</td>\n",
       "      <td>183.473258</td>\n",
       "      <td>102.105339</td>\n",
       "      <td>11825.373084</td>\n",
       "      <td>5157.118130</td>\n",
       "      <td>7109.843510</td>\n",
       "      <td>570.741119</td>\n",
       "      <td>382.427941</td>\n",
       "      <td>65.07730</td>\n",
       "    </tr>\n",
       "    <tr>\n",
       "      <th>min</th>\n",
       "      <td>99.000000</td>\n",
       "      <td>2.000000</td>\n",
       "      <td>5.000000</td>\n",
       "      <td>8.000000</td>\n",
       "      <td>3.000000</td>\n",
       "      <td>1307.000000</td>\n",
       "      <td>355.000000</td>\n",
       "      <td>339.000000</td>\n",
       "      <td>22.000000</td>\n",
       "      <td>33.000000</td>\n",
       "      <td>9.00000</td>\n",
       "    </tr>\n",
       "    <tr>\n",
       "      <th>25%</th>\n",
       "      <td>360.000000</td>\n",
       "      <td>6.000000</td>\n",
       "      <td>17.000000</td>\n",
       "      <td>68.000000</td>\n",
       "      <td>18.000000</td>\n",
       "      <td>4264.000000</td>\n",
       "      <td>1873.000000</td>\n",
       "      <td>1579.000000</td>\n",
       "      <td>131.000000</td>\n",
       "      <td>146.000000</td>\n",
       "      <td>39.00000</td>\n",
       "    </tr>\n",
       "    <tr>\n",
       "      <th>50%</th>\n",
       "      <td>575.000000</td>\n",
       "      <td>14.000000</td>\n",
       "      <td>29.000000</td>\n",
       "      <td>109.000000</td>\n",
       "      <td>51.000000</td>\n",
       "      <td>6626.000000</td>\n",
       "      <td>3641.000000</td>\n",
       "      <td>3068.000000</td>\n",
       "      <td>248.000000</td>\n",
       "      <td>287.000000</td>\n",
       "      <td>68.00000</td>\n",
       "    </tr>\n",
       "    <tr>\n",
       "      <th>75%</th>\n",
       "      <td>1062.000000</td>\n",
       "      <td>25.000000</td>\n",
       "      <td>47.000000</td>\n",
       "      <td>218.000000</td>\n",
       "      <td>104.000000</td>\n",
       "      <td>13403.000000</td>\n",
       "      <td>5578.000000</td>\n",
       "      <td>6808.000000</td>\n",
       "      <td>591.000000</td>\n",
       "      <td>485.000000</td>\n",
       "      <td>107.00000</td>\n",
       "    </tr>\n",
       "    <tr>\n",
       "      <th>max</th>\n",
       "      <td>6436.000000</td>\n",
       "      <td>202.000000</td>\n",
       "      <td>164.000000</td>\n",
       "      <td>941.000000</td>\n",
       "      <td>618.000000</td>\n",
       "      <td>70913.000000</td>\n",
       "      <td>27992.000000</td>\n",
       "      <td>40882.000000</td>\n",
       "      <td>3194.000000</td>\n",
       "      <td>2023.000000</td>\n",
       "      <td>293.00000</td>\n",
       "    </tr>\n",
       "  </tbody>\n",
       "</table>\n",
       "</div>"
      ],
      "text/plain": [
       "       UNIDAD SOCIAL CRISTIANA  INTEGRACIÓN NACIONAL  ALIANZA\\nPATRIÓTICA  \\\n",
       "count                81.000000             81.000000            81.000000   \n",
       "mean                914.987654             25.296296            38.987654   \n",
       "std                 972.104617             35.361860            32.408523   \n",
       "min                  99.000000              2.000000             5.000000   \n",
       "25%                 360.000000              6.000000            17.000000   \n",
       "50%                 575.000000             14.000000            29.000000   \n",
       "75%                1062.000000             25.000000            47.000000   \n",
       "max                6436.000000            202.000000           164.000000   \n",
       "\n",
       "       RENOVACIÓN COSTARRICENSE  FRENTE AMPLIO  LIBERACIÓN NACIONAL  \\\n",
       "count                 81.000000      81.000000            81.000000   \n",
       "mean                 172.160494      83.728395         11068.098765   \n",
       "std                  183.473258     102.105339         11825.373084   \n",
       "min                    8.000000       3.000000          1307.000000   \n",
       "25%                   68.000000      18.000000          4264.000000   \n",
       "50%                  109.000000      51.000000          6626.000000   \n",
       "75%                  218.000000     104.000000         13403.000000   \n",
       "max                  941.000000     618.000000         70913.000000   \n",
       "\n",
       "       MOVIMIENTO LIBERTARIO  ACCIÓN\\nCIUDADANA  ACCESIBILIDAD SIN EXCLUSIÓN  \\\n",
       "count              81.000000          81.000000                    81.000000   \n",
       "mean             4935.654321        5912.061728                   445.728395   \n",
       "std              5157.118130        7109.843510                   570.741119   \n",
       "min               355.000000         339.000000                    22.000000   \n",
       "25%              1873.000000        1579.000000                   131.000000   \n",
       "50%              3641.000000        3068.000000                   248.000000   \n",
       "75%              5578.000000        6808.000000                   591.000000   \n",
       "max             27992.000000       40882.000000                  3194.000000   \n",
       "\n",
       "             NULOS    BLANCOS  \n",
       "count    81.000000   81.00000  \n",
       "mean    401.913580   85.91358  \n",
       "std     382.427941   65.07730  \n",
       "min      33.000000    9.00000  \n",
       "25%     146.000000   39.00000  \n",
       "50%     287.000000   68.00000  \n",
       "75%     485.000000  107.00000  \n",
       "max    2023.000000  293.00000  "
      ]
     },
     "execution_count": 18,
     "metadata": {},
     "output_type": "execute_result"
    }
   ],
   "source": [
    "fileName.describe()"
   ]
  },
  {
   "cell_type": "code",
   "execution_count": 19,
   "metadata": {},
   "outputs": [],
   "source": [
    "from pandas_profiling import ProfileReport"
   ]
  },
  {
   "cell_type": "code",
   "execution_count": 20,
   "metadata": {},
   "outputs": [],
   "source": [
    "profile = ProfileReport(fileName, title='Pandas Profiling Report', html={'style':{'full_width':True}})\n",
    "#fileName.profile_report(style={'full_width':True}) \n"
   ]
  },
  {
   "cell_type": "code",
   "execution_count": 21,
   "metadata": {},
   "outputs": [
    {
     "data": {
      "application/vnd.jupyter.widget-view+json": {
       "model_id": "c546dd74193849db9e2c0de91191a2ee",
       "version_major": 2,
       "version_minor": 0
      },
      "text/plain": [
       "HBox(children=(FloatProgress(value=0.0, description='Summarize dataset', max=26.0, style=ProgressStyle(descrip…"
      ]
     },
     "metadata": {},
     "output_type": "display_data"
    },
    {
     "name": "stdout",
     "output_type": "stream",
     "text": [
      "\n"
     ]
    },
    {
     "data": {
      "application/vnd.jupyter.widget-view+json": {
       "model_id": "95714212712e4595910412b38b61422a",
       "version_major": 2,
       "version_minor": 0
      },
      "text/plain": [
       "HBox(children=(FloatProgress(value=0.0, description='Generate report structure', max=1.0, style=ProgressStyle(…"
      ]
     },
     "metadata": {},
     "output_type": "display_data"
    },
    {
     "name": "stderr",
     "output_type": "stream",
     "text": [
      "C:\\Users\\Karina\\AppData\\Roaming\\Python\\Python37\\site-packages\\pandas_profiling\\visualisation\\plot.py:154: MatplotlibDeprecationWarning: You are modifying the state of a globally registered colormap. In future versions, you will not be able to modify a registered colormap in-place. To remove this warning, you can make a copy of the colormap first. cmap = copy.copy(mpl.cm.get_cmap(\"RdBu\"))\n",
      "  cmap.set_bad(cmap_bad)\n"
     ]
    },
    {
     "name": "stdout",
     "output_type": "stream",
     "text": [
      "\n"
     ]
    },
    {
     "data": {
      "application/vnd.jupyter.widget-view+json": {
       "model_id": "9d5d3f3a539047cd9e7ce6a117ccaae0",
       "version_major": 2,
       "version_minor": 0
      },
      "text/plain": [
       "HBox(children=(FloatProgress(value=0.0, description='Render HTML', max=1.0, style=ProgressStyle(description_wi…"
      ]
     },
     "metadata": {},
     "output_type": "display_data"
    },
    {
     "name": "stdout",
     "output_type": "stream",
     "text": [
      "\n"
     ]
    },
    {
     "data": {
      "application/vnd.jupyter.widget-view+json": {
       "model_id": "c1b849910838451bbbd84b7916d82d5c",
       "version_major": 2,
       "version_minor": 0
      },
      "text/plain": [
       "HBox(children=(FloatProgress(value=0.0, description='Export report to file', max=1.0, style=ProgressStyle(desc…"
      ]
     },
     "metadata": {},
     "output_type": "display_data"
    },
    {
     "name": "stdout",
     "output_type": "stream",
     "text": [
      "\n"
     ]
    }
   ],
   "source": [
    "profile = fileName.profile_report(title='Pandas Profiling Report')\n",
    "profile.to_file('Salida2.html')"
   ]
  },
  {
   "cell_type": "code",
   "execution_count": null,
   "metadata": {},
   "outputs": [],
   "source": []
  }
 ],
 "metadata": {
  "kernelspec": {
   "display_name": "Python 3",
   "language": "python",
   "name": "python3"
  },
  "language_info": {
   "codemirror_mode": {
    "name": "ipython",
    "version": 3
   },
   "file_extension": ".py",
   "mimetype": "text/x-python",
   "name": "python",
   "nbconvert_exporter": "python",
   "pygments_lexer": "ipython3",
   "version": "3.7.2"
  }
 },
 "nbformat": 4,
 "nbformat_minor": 2
}
